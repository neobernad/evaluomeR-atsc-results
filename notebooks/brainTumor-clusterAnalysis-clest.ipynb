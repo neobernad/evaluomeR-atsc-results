{
 "cells": [
  {
   "cell_type": "markdown",
   "id": "285a2f02",
   "metadata": {},
   "source": [
    " # Brain tumor using Clest"
   ]
  },
  {
   "cell_type": "code",
   "execution_count": 1,
   "id": "5b925569",
   "metadata": {
    "scrolled": true
   },
   "outputs": [
    {
     "name": "stderr",
     "output_type": "stream",
     "text": [
      "Cargando paquete requerido: SummarizedExperiment\n",
      "\n",
      "Cargando paquete requerido: MatrixGenerics\n",
      "\n",
      "Cargando paquete requerido: matrixStats\n",
      "\n",
      "\n",
      "Adjuntando el paquete: 'MatrixGenerics'\n",
      "\n",
      "\n",
      "The following objects are masked from 'package:matrixStats':\n",
      "\n",
      "    colAlls, colAnyNAs, colAnys, colAvgsPerRowSet, colCollapse,\n",
      "    colCounts, colCummaxs, colCummins, colCumprods, colCumsums,\n",
      "    colDiffs, colIQRDiffs, colIQRs, colLogSumExps, colMadDiffs,\n",
      "    colMads, colMaxs, colMeans2, colMedians, colMins, colOrderStats,\n",
      "    colProds, colQuantiles, colRanges, colRanks, colSdDiffs, colSds,\n",
      "    colSums2, colTabulates, colVarDiffs, colVars, colWeightedMads,\n",
      "    colWeightedMeans, colWeightedMedians, colWeightedSds,\n",
      "    colWeightedVars, rowAlls, rowAnyNAs, rowAnys, rowAvgsPerColSet,\n",
      "    rowCollapse, rowCounts, rowCummaxs, rowCummins, rowCumprods,\n",
      "    rowCumsums, rowDiffs, rowIQRDiffs, rowIQRs, rowLogSumExps,\n",
      "    rowMadDiffs, rowMads, rowMaxs, rowMeans2, rowMedians, rowMins,\n",
      "    rowOrderStats, rowProds, rowQuantiles, rowRanges, rowRanks,\n",
      "    rowSdDiffs, rowSds, rowSums2, rowTabulates, rowVarDiffs, rowVars,\n",
      "    rowWeightedMads, rowWeightedMeans, rowWeightedMedians,\n",
      "    rowWeightedSds, rowWeightedVars\n",
      "\n",
      "\n",
      "Cargando paquete requerido: GenomicRanges\n",
      "\n",
      "Cargando paquete requerido: stats4\n",
      "\n",
      "Cargando paquete requerido: BiocGenerics\n",
      "\n",
      "\n",
      "Adjuntando el paquete: 'BiocGenerics'\n",
      "\n",
      "\n",
      "The following objects are masked from 'package:stats':\n",
      "\n",
      "    IQR, mad, sd, var, xtabs\n",
      "\n",
      "\n",
      "The following objects are masked from 'package:base':\n",
      "\n",
      "    anyDuplicated, aperm, append, as.data.frame, basename, cbind,\n",
      "    colnames, dirname, do.call, duplicated, eval, evalq, Filter, Find,\n",
      "    get, grep, grepl, intersect, is.unsorted, lapply, Map, mapply,\n",
      "    match, mget, order, paste, pmax, pmax.int, pmin, pmin.int,\n",
      "    Position, rank, rbind, Reduce, rownames, sapply, setdiff, table,\n",
      "    tapply, union, unique, unsplit, which.max, which.min\n",
      "\n",
      "\n",
      "Cargando paquete requerido: S4Vectors\n",
      "\n",
      "\n",
      "Adjuntando el paquete: 'S4Vectors'\n",
      "\n",
      "\n",
      "The following object is masked from 'package:utils':\n",
      "\n",
      "    findMatches\n",
      "\n",
      "\n",
      "The following objects are masked from 'package:base':\n",
      "\n",
      "    expand.grid, I, unname\n",
      "\n",
      "\n",
      "Cargando paquete requerido: IRanges\n",
      "\n",
      "\n",
      "Adjuntando el paquete: 'IRanges'\n",
      "\n",
      "\n",
      "The following object is masked from 'package:grDevices':\n",
      "\n",
      "    windows\n",
      "\n",
      "\n",
      "Cargando paquete requerido: GenomeInfoDb\n",
      "\n",
      "Cargando paquete requerido: Biobase\n",
      "\n",
      "Welcome to Bioconductor\n",
      "\n",
      "    Vignettes contain introductory material; view with\n",
      "    'browseVignettes()'. To cite Bioconductor, see\n",
      "    'citation(\"Biobase\")', and for packages 'citation(\"pkgname\")'.\n",
      "\n",
      "\n",
      "\n",
      "Adjuntando el paquete: 'Biobase'\n",
      "\n",
      "\n",
      "The following object is masked from 'package:MatrixGenerics':\n",
      "\n",
      "    rowMedians\n",
      "\n",
      "\n",
      "The following objects are masked from 'package:matrixStats':\n",
      "\n",
      "    anyMissing, rowMedians\n",
      "\n",
      "\n",
      "Cargando paquete requerido: MultiAssayExperiment\n",
      "\n",
      "Cargando paquete requerido: dplyr\n",
      "\n",
      "\n",
      "Adjuntando el paquete: 'dplyr'\n",
      "\n",
      "\n",
      "The following object is masked from 'package:Biobase':\n",
      "\n",
      "    combine\n",
      "\n",
      "\n",
      "The following objects are masked from 'package:GenomicRanges':\n",
      "\n",
      "    intersect, setdiff, union\n",
      "\n",
      "\n",
      "The following object is masked from 'package:GenomeInfoDb':\n",
      "\n",
      "    intersect\n",
      "\n",
      "\n",
      "The following objects are masked from 'package:IRanges':\n",
      "\n",
      "    collapse, desc, intersect, setdiff, slice, union\n",
      "\n",
      "\n",
      "The following objects are masked from 'package:S4Vectors':\n",
      "\n",
      "    first, intersect, rename, setdiff, setequal, union\n",
      "\n",
      "\n",
      "The following objects are masked from 'package:BiocGenerics':\n",
      "\n",
      "    combine, intersect, setdiff, union\n",
      "\n",
      "\n",
      "The following object is masked from 'package:matrixStats':\n",
      "\n",
      "    count\n",
      "\n",
      "\n",
      "The following objects are masked from 'package:stats':\n",
      "\n",
      "    filter, lag\n",
      "\n",
      "\n",
      "The following objects are masked from 'package:base':\n",
      "\n",
      "    intersect, setdiff, setequal, union\n",
      "\n",
      "\n",
      "Cargando paquete requerido: cluster\n",
      "\n",
      "Cargando paquete requerido: fpc\n",
      "\n",
      "Cargando paquete requerido: randomForest\n",
      "\n",
      "randomForest 4.7-1.2\n",
      "\n",
      "Type rfNews() to see new features/changes/bug fixes.\n",
      "\n",
      "\n",
      "Adjuntando el paquete: 'randomForest'\n",
      "\n",
      "\n",
      "The following object is masked from 'package:dplyr':\n",
      "\n",
      "    combine\n",
      "\n",
      "\n",
      "The following object is masked from 'package:Biobase':\n",
      "\n",
      "    combine\n",
      "\n",
      "\n",
      "The following object is masked from 'package:BiocGenerics':\n",
      "\n",
      "    combine\n",
      "\n",
      "\n",
      "Cargando paquete requerido: flexmix\n",
      "\n",
      "Cargando paquete requerido: lattice\n",
      "\n",
      "Cargando paquete requerido: RSKC\n",
      "\n",
      "Cargando paquete requerido: flexclust\n",
      "\n",
      "Cargando paquete requerido: grid\n",
      "\n",
      "Cargando paquete requerido: modeltools\n",
      "\n",
      "Cargando paquete requerido: sparcl\n",
      "\n",
      "Cargando paquete requerido: ggplot2\n",
      "\n",
      "\n",
      "Adjuntando el paquete: 'ggplot2'\n",
      "\n",
      "\n",
      "The following object is masked from 'package:randomForest':\n",
      "\n",
      "    margin\n",
      "\n",
      "\n",
      "Package 'mclust' version 6.1.1\n",
      "Type 'citation(\"mclust\")' for citing this R package in publications.\n",
      "\n"
     ]
    }
   ],
   "source": [
    "library(\"binom\") \n",
    "library(\"evaluomeR\")\n",
    "library(\"clusterAnalysis\")\n",
    "library(\"dplyr\")\n",
    "library(\"caret\")\n",
    "library(\"ggplot2\")\n",
    "library(\"ggrepel\")\n",
    "library(\"reshape2\")\n",
    "library(\"mclust\")\n",
    "\n",
    "options(scipen=10)\n",
    "options(repr.plot.width=12, repr.plot.height=12)"
   ]
  },
  {
   "cell_type": "code",
   "execution_count": 2,
   "id": "bce80bf1-f046-4de3-a13c-37616321a0db",
   "metadata": {},
   "outputs": [
    {
     "data": {
      "text/plain": [
       "[1] '4.4.1'"
      ]
     },
     "metadata": {},
     "output_type": "display_data"
    },
    {
     "data": {
      "text/plain": [
       "[1] '0.0.0.9000'"
      ]
     },
     "metadata": {},
     "output_type": "display_data"
    }
   ],
   "source": [
    "getRversion()\n",
    "packageVersion(\"clusterAnalysis\")"
   ]
  },
  {
   "cell_type": "markdown",
   "id": "08d0e886",
   "metadata": {},
   "source": [
    "# Dataset <a class=\"anchor\" id=\"dataset\"></a>"
   ]
  },
  {
   "cell_type": "code",
   "execution_count": 3,
   "id": "cad180bc-ecbf-4aa4-bcba-ad55cc70af0e",
   "metadata": {},
   "outputs": [
    {
     "data": {
      "text/html": [
       "<table class=\"dataframe\">\n",
       "<caption>A data.frame: 6 × 201</caption>\n",
       "<thead>\n",
       "\t<tr><th></th><th scope=col>Description</th><th scope=col>X224588_at</th><th scope=col>X201909_at</th><th scope=col>X229012_at</th><th scope=col>X210033_s_at</th><th scope=col>X236448_at</th><th scope=col>X240065_at</th><th scope=col>X206018_at</th><th scope=col>X225165_at</th><th scope=col>X220156_at</th><th scope=col>⋯</th><th scope=col>X206306_at</th><th scope=col>X203649_s_at</th><th scope=col>X206785_s_at</th><th scope=col>X1563933_a_at</th><th scope=col>X238603_at</th><th scope=col>X205751_at</th><th scope=col>X210271_at</th><th scope=col>X228347_at</th><th scope=col>X232720_at</th><th scope=col>X209138_x_at</th></tr>\n",
       "\t<tr><th></th><th scope=col>&lt;chr&gt;</th><th scope=col>&lt;dbl&gt;</th><th scope=col>&lt;dbl&gt;</th><th scope=col>&lt;dbl&gt;</th><th scope=col>&lt;dbl&gt;</th><th scope=col>&lt;dbl&gt;</th><th scope=col>&lt;dbl&gt;</th><th scope=col>&lt;dbl&gt;</th><th scope=col>&lt;dbl&gt;</th><th scope=col>&lt;dbl&gt;</th><th scope=col>⋯</th><th scope=col>&lt;dbl&gt;</th><th scope=col>&lt;dbl&gt;</th><th scope=col>&lt;dbl&gt;</th><th scope=col>&lt;dbl&gt;</th><th scope=col>&lt;dbl&gt;</th><th scope=col>&lt;dbl&gt;</th><th scope=col>&lt;dbl&gt;</th><th scope=col>&lt;dbl&gt;</th><th scope=col>&lt;dbl&gt;</th><th scope=col>&lt;dbl&gt;</th></tr>\n",
       "</thead>\n",
       "<tbody>\n",
       "\t<tr><th scope=row>GSM1214834</th><td>ependymoma</td><td>1.678130</td><td>3.644194</td><td>3.820705</td><td>3.735552</td><td>1.172587</td><td>3.624207</td><td>1.794471</td><td>3.691314</td><td>3.589067</td><td>⋯</td><td>3.596530</td><td>1.873599</td><td>2.146811</td><td>3.110174</td><td>1.524128</td><td>2.563318</td><td>1.450476</td><td>1.880268</td><td>1.737017</td><td>1.776431</td></tr>\n",
       "\t<tr><th scope=row>GSM1214835</th><td>ependymoma</td><td>3.767506</td><td>1.667500</td><td>3.224272</td><td>3.566060</td><td>3.134809</td><td>3.381327</td><td>3.608933</td><td>3.828011</td><td>3.315655</td><td>⋯</td><td>1.716341</td><td>1.825732</td><td>2.149566</td><td>1.619617</td><td>1.601342</td><td>2.726899</td><td>2.637962</td><td>1.991922</td><td>1.788192</td><td>2.720051</td></tr>\n",
       "\t<tr><th scope=row>GSM1214836</th><td>ependymoma</td><td>1.676252</td><td>3.747256</td><td>3.456146</td><td>3.642242</td><td>1.194883</td><td>3.520656</td><td>1.797164</td><td>3.463318</td><td>3.227379</td><td>⋯</td><td>3.431167</td><td>2.897142</td><td>2.983751</td><td>1.608201</td><td>1.587031</td><td>2.585998</td><td>1.449467</td><td>1.815894</td><td>1.748981</td><td>1.783816</td></tr>\n",
       "\t<tr><th scope=row>GSM1214837</th><td>ependymoma</td><td>3.792194</td><td>1.636888</td><td>3.823623</td><td>3.786311</td><td>1.168471</td><td>3.498731</td><td>3.818550</td><td>2.747462</td><td>3.578139</td><td>⋯</td><td>1.943356</td><td>1.839781</td><td>2.128098</td><td>1.537581</td><td>3.151399</td><td>3.113747</td><td>1.424955</td><td>1.906251</td><td>3.647694</td><td>2.645952</td></tr>\n",
       "\t<tr><th scope=row>GSM1214838</th><td>ependymoma</td><td>3.809949</td><td>1.639904</td><td>3.561411</td><td>1.590063</td><td>2.933787</td><td>2.997341</td><td>1.648297</td><td>3.624553</td><td>3.551927</td><td>⋯</td><td>3.594693</td><td>2.148758</td><td>2.130709</td><td>3.167416</td><td>1.614435</td><td>1.762541</td><td>1.429500</td><td>1.849851</td><td>1.719865</td><td>1.758591</td></tr>\n",
       "\t<tr><th scope=row>GSM1214839</th><td>ependymoma</td><td>1.740624</td><td>3.700109</td><td>3.893310</td><td>3.761085</td><td>1.288353</td><td>3.745520</td><td>1.841266</td><td>3.714091</td><td>3.746951</td><td>⋯</td><td>3.263901</td><td>1.930619</td><td>2.309651</td><td>1.871377</td><td>1.540925</td><td>1.773522</td><td>1.461576</td><td>1.901027</td><td>1.799332</td><td>1.794916</td></tr>\n",
       "</tbody>\n",
       "</table>\n"
      ],
      "text/latex": [
       "A data.frame: 6 × 201\n",
       "\\begin{tabular}{r|lllllllllllllllllllll}\n",
       "  & Description & X224588\\_at & X201909\\_at & X229012\\_at & X210033\\_s\\_at & X236448\\_at & X240065\\_at & X206018\\_at & X225165\\_at & X220156\\_at & ⋯ & X206306\\_at & X203649\\_s\\_at & X206785\\_s\\_at & X1563933\\_a\\_at & X238603\\_at & X205751\\_at & X210271\\_at & X228347\\_at & X232720\\_at & X209138\\_x\\_at\\\\\n",
       "  & <chr> & <dbl> & <dbl> & <dbl> & <dbl> & <dbl> & <dbl> & <dbl> & <dbl> & <dbl> & ⋯ & <dbl> & <dbl> & <dbl> & <dbl> & <dbl> & <dbl> & <dbl> & <dbl> & <dbl> & <dbl>\\\\\n",
       "\\hline\n",
       "\tGSM1214834 & ependymoma & 1.678130 & 3.644194 & 3.820705 & 3.735552 & 1.172587 & 3.624207 & 1.794471 & 3.691314 & 3.589067 & ⋯ & 3.596530 & 1.873599 & 2.146811 & 3.110174 & 1.524128 & 2.563318 & 1.450476 & 1.880268 & 1.737017 & 1.776431\\\\\n",
       "\tGSM1214835 & ependymoma & 3.767506 & 1.667500 & 3.224272 & 3.566060 & 3.134809 & 3.381327 & 3.608933 & 3.828011 & 3.315655 & ⋯ & 1.716341 & 1.825732 & 2.149566 & 1.619617 & 1.601342 & 2.726899 & 2.637962 & 1.991922 & 1.788192 & 2.720051\\\\\n",
       "\tGSM1214836 & ependymoma & 1.676252 & 3.747256 & 3.456146 & 3.642242 & 1.194883 & 3.520656 & 1.797164 & 3.463318 & 3.227379 & ⋯ & 3.431167 & 2.897142 & 2.983751 & 1.608201 & 1.587031 & 2.585998 & 1.449467 & 1.815894 & 1.748981 & 1.783816\\\\\n",
       "\tGSM1214837 & ependymoma & 3.792194 & 1.636888 & 3.823623 & 3.786311 & 1.168471 & 3.498731 & 3.818550 & 2.747462 & 3.578139 & ⋯ & 1.943356 & 1.839781 & 2.128098 & 1.537581 & 3.151399 & 3.113747 & 1.424955 & 1.906251 & 3.647694 & 2.645952\\\\\n",
       "\tGSM1214838 & ependymoma & 3.809949 & 1.639904 & 3.561411 & 1.590063 & 2.933787 & 2.997341 & 1.648297 & 3.624553 & 3.551927 & ⋯ & 3.594693 & 2.148758 & 2.130709 & 3.167416 & 1.614435 & 1.762541 & 1.429500 & 1.849851 & 1.719865 & 1.758591\\\\\n",
       "\tGSM1214839 & ependymoma & 1.740624 & 3.700109 & 3.893310 & 3.761085 & 1.288353 & 3.745520 & 1.841266 & 3.714091 & 3.746951 & ⋯ & 3.263901 & 1.930619 & 2.309651 & 1.871377 & 1.540925 & 1.773522 & 1.461576 & 1.901027 & 1.799332 & 1.794916\\\\\n",
       "\\end{tabular}\n"
      ],
      "text/markdown": [
       "\n",
       "A data.frame: 6 × 201\n",
       "\n",
       "| <!--/--> | Description &lt;chr&gt; | X224588_at &lt;dbl&gt; | X201909_at &lt;dbl&gt; | X229012_at &lt;dbl&gt; | X210033_s_at &lt;dbl&gt; | X236448_at &lt;dbl&gt; | X240065_at &lt;dbl&gt; | X206018_at &lt;dbl&gt; | X225165_at &lt;dbl&gt; | X220156_at &lt;dbl&gt; | ⋯ ⋯ | X206306_at &lt;dbl&gt; | X203649_s_at &lt;dbl&gt; | X206785_s_at &lt;dbl&gt; | X1563933_a_at &lt;dbl&gt; | X238603_at &lt;dbl&gt; | X205751_at &lt;dbl&gt; | X210271_at &lt;dbl&gt; | X228347_at &lt;dbl&gt; | X232720_at &lt;dbl&gt; | X209138_x_at &lt;dbl&gt; |\n",
       "|---|---|---|---|---|---|---|---|---|---|---|---|---|---|---|---|---|---|---|---|---|---|\n",
       "| GSM1214834 | ependymoma | 1.678130 | 3.644194 | 3.820705 | 3.735552 | 1.172587 | 3.624207 | 1.794471 | 3.691314 | 3.589067 | ⋯ | 3.596530 | 1.873599 | 2.146811 | 3.110174 | 1.524128 | 2.563318 | 1.450476 | 1.880268 | 1.737017 | 1.776431 |\n",
       "| GSM1214835 | ependymoma | 3.767506 | 1.667500 | 3.224272 | 3.566060 | 3.134809 | 3.381327 | 3.608933 | 3.828011 | 3.315655 | ⋯ | 1.716341 | 1.825732 | 2.149566 | 1.619617 | 1.601342 | 2.726899 | 2.637962 | 1.991922 | 1.788192 | 2.720051 |\n",
       "| GSM1214836 | ependymoma | 1.676252 | 3.747256 | 3.456146 | 3.642242 | 1.194883 | 3.520656 | 1.797164 | 3.463318 | 3.227379 | ⋯ | 3.431167 | 2.897142 | 2.983751 | 1.608201 | 1.587031 | 2.585998 | 1.449467 | 1.815894 | 1.748981 | 1.783816 |\n",
       "| GSM1214837 | ependymoma | 3.792194 | 1.636888 | 3.823623 | 3.786311 | 1.168471 | 3.498731 | 3.818550 | 2.747462 | 3.578139 | ⋯ | 1.943356 | 1.839781 | 2.128098 | 1.537581 | 3.151399 | 3.113747 | 1.424955 | 1.906251 | 3.647694 | 2.645952 |\n",
       "| GSM1214838 | ependymoma | 3.809949 | 1.639904 | 3.561411 | 1.590063 | 2.933787 | 2.997341 | 1.648297 | 3.624553 | 3.551927 | ⋯ | 3.594693 | 2.148758 | 2.130709 | 3.167416 | 1.614435 | 1.762541 | 1.429500 | 1.849851 | 1.719865 | 1.758591 |\n",
       "| GSM1214839 | ependymoma | 1.740624 | 3.700109 | 3.893310 | 3.761085 | 1.288353 | 3.745520 | 1.841266 | 3.714091 | 3.746951 | ⋯ | 3.263901 | 1.930619 | 2.309651 | 1.871377 | 1.540925 | 1.773522 | 1.461576 | 1.901027 | 1.799332 | 1.794916 |\n",
       "\n"
      ],
      "text/plain": [
       "           Description X224588_at X201909_at X229012_at X210033_s_at X236448_at\n",
       "GSM1214834 ependymoma  1.678130   3.644194   3.820705   3.735552     1.172587  \n",
       "GSM1214835 ependymoma  3.767506   1.667500   3.224272   3.566060     3.134809  \n",
       "GSM1214836 ependymoma  1.676252   3.747256   3.456146   3.642242     1.194883  \n",
       "GSM1214837 ependymoma  3.792194   1.636888   3.823623   3.786311     1.168471  \n",
       "GSM1214838 ependymoma  3.809949   1.639904   3.561411   1.590063     2.933787  \n",
       "GSM1214839 ependymoma  1.740624   3.700109   3.893310   3.761085     1.288353  \n",
       "           X240065_at X206018_at X225165_at X220156_at ⋯ X206306_at\n",
       "GSM1214834 3.624207   1.794471   3.691314   3.589067   ⋯ 3.596530  \n",
       "GSM1214835 3.381327   3.608933   3.828011   3.315655   ⋯ 1.716341  \n",
       "GSM1214836 3.520656   1.797164   3.463318   3.227379   ⋯ 3.431167  \n",
       "GSM1214837 3.498731   3.818550   2.747462   3.578139   ⋯ 1.943356  \n",
       "GSM1214838 2.997341   1.648297   3.624553   3.551927   ⋯ 3.594693  \n",
       "GSM1214839 3.745520   1.841266   3.714091   3.746951   ⋯ 3.263901  \n",
       "           X203649_s_at X206785_s_at X1563933_a_at X238603_at X205751_at\n",
       "GSM1214834 1.873599     2.146811     3.110174      1.524128   2.563318  \n",
       "GSM1214835 1.825732     2.149566     1.619617      1.601342   2.726899  \n",
       "GSM1214836 2.897142     2.983751     1.608201      1.587031   2.585998  \n",
       "GSM1214837 1.839781     2.128098     1.537581      3.151399   3.113747  \n",
       "GSM1214838 2.148758     2.130709     3.167416      1.614435   1.762541  \n",
       "GSM1214839 1.930619     2.309651     1.871377      1.540925   1.773522  \n",
       "           X210271_at X228347_at X232720_at X209138_x_at\n",
       "GSM1214834 1.450476   1.880268   1.737017   1.776431    \n",
       "GSM1214835 2.637962   1.991922   1.788192   2.720051    \n",
       "GSM1214836 1.449467   1.815894   1.748981   1.783816    \n",
       "GSM1214837 1.424955   1.906251   3.647694   2.645952    \n",
       "GSM1214838 1.429500   1.849851   1.719865   1.758591    \n",
       "GSM1214839 1.461576   1.901027   1.799332   1.794916    "
      ]
     },
     "metadata": {},
     "output_type": "display_data"
    },
    {
     "data": {
      "text/html": [
       "<style>\n",
       ".list-inline {list-style: none; margin:0; padding: 0}\n",
       ".list-inline>li {display: inline-block}\n",
       ".list-inline>li:not(:last-child)::after {content: \"\\00b7\"; padding: 0 .5ex}\n",
       "</style>\n",
       "<ol class=list-inline><li>'ependymoma'</li><li>'glioblastoma'</li><li>'medulloblastoma'</li><li>'pilocytic astrocytoma'</li></ol>\n"
      ],
      "text/latex": [
       "\\begin{enumerate*}\n",
       "\\item 'ependymoma'\n",
       "\\item 'glioblastoma'\n",
       "\\item 'medulloblastoma'\n",
       "\\item 'pilocytic astrocytoma'\n",
       "\\end{enumerate*}\n"
      ],
      "text/markdown": [
       "1. 'ependymoma'\n",
       "2. 'glioblastoma'\n",
       "3. 'medulloblastoma'\n",
       "4. 'pilocytic astrocytoma'\n",
       "\n",
       "\n"
      ],
      "text/plain": [
       "[1] \"ependymoma\"            \"glioblastoma\"          \"medulloblastoma\"      \n",
       "[4] \"pilocytic astrocytoma\""
      ]
     },
     "metadata": {},
     "output_type": "display_data"
    }
   ],
   "source": [
    "load(\"BrainTumor200.RData\")\n",
    "dataset = BrainTumor200\n",
    "head(dataset)\n",
    "unique(dataset$Description)\n",
    "set.seed(13626)"
   ]
  },
  {
   "cell_type": "code",
   "execution_count": 4,
   "id": "e3d9ffb3",
   "metadata": {},
   "outputs": [
    {
     "data": {
      "text/html": [
       "<style>\n",
       ".list-inline {list-style: none; margin:0; padding: 0}\n",
       ".list-inline>li {display: inline-block}\n",
       ".list-inline>li:not(:last-child)::after {content: \"\\00b7\"; padding: 0 .5ex}\n",
       "</style>\n",
       "<ol class=list-inline><li>1</li><li>1</li><li>1</li><li>1</li><li>1</li><li>1</li><li>1</li><li>1</li><li>1</li><li>1</li><li>1</li><li>1</li><li>1</li><li>1</li><li>1</li><li>1</li><li>1</li><li>1</li><li>1</li><li>1</li><li>1</li><li>1</li><li>1</li><li>1</li><li>1</li><li>1</li><li>1</li><li>1</li><li>1</li><li>1</li><li>1</li><li>1</li><li>1</li><li>1</li><li>1</li><li>1</li><li>1</li><li>1</li><li>1</li><li>1</li><li>1</li><li>1</li><li>1</li><li>1</li><li>1</li><li>1</li><li>2</li><li>2</li><li>2</li><li>2</li><li>2</li><li>2</li><li>2</li><li>2</li><li>2</li><li>2</li><li>2</li><li>2</li><li>2</li><li>2</li><li>2</li><li>2</li><li>2</li><li>2</li><li>2</li><li>2</li><li>2</li><li>2</li><li>2</li><li>2</li><li>2</li><li>2</li><li>2</li><li>2</li><li>2</li><li>2</li><li>2</li><li>2</li><li>2</li><li>2</li><li>3</li><li>3</li><li>3</li><li>3</li><li>3</li><li>3</li><li>3</li><li>3</li><li>3</li><li>3</li><li>3</li><li>3</li><li>3</li><li>3</li><li>3</li><li>3</li><li>3</li><li>3</li><li>3</li><li>3</li><li>3</li><li>3</li><li>4</li><li>4</li><li>4</li><li>4</li><li>4</li><li>4</li><li>4</li><li>4</li><li>4</li><li>4</li><li>4</li><li>4</li><li>4</li><li>4</li><li>4</li></ol>\n"
      ],
      "text/latex": [
       "\\begin{enumerate*}\n",
       "\\item 1\n",
       "\\item 1\n",
       "\\item 1\n",
       "\\item 1\n",
       "\\item 1\n",
       "\\item 1\n",
       "\\item 1\n",
       "\\item 1\n",
       "\\item 1\n",
       "\\item 1\n",
       "\\item 1\n",
       "\\item 1\n",
       "\\item 1\n",
       "\\item 1\n",
       "\\item 1\n",
       "\\item 1\n",
       "\\item 1\n",
       "\\item 1\n",
       "\\item 1\n",
       "\\item 1\n",
       "\\item 1\n",
       "\\item 1\n",
       "\\item 1\n",
       "\\item 1\n",
       "\\item 1\n",
       "\\item 1\n",
       "\\item 1\n",
       "\\item 1\n",
       "\\item 1\n",
       "\\item 1\n",
       "\\item 1\n",
       "\\item 1\n",
       "\\item 1\n",
       "\\item 1\n",
       "\\item 1\n",
       "\\item 1\n",
       "\\item 1\n",
       "\\item 1\n",
       "\\item 1\n",
       "\\item 1\n",
       "\\item 1\n",
       "\\item 1\n",
       "\\item 1\n",
       "\\item 1\n",
       "\\item 1\n",
       "\\item 1\n",
       "\\item 2\n",
       "\\item 2\n",
       "\\item 2\n",
       "\\item 2\n",
       "\\item 2\n",
       "\\item 2\n",
       "\\item 2\n",
       "\\item 2\n",
       "\\item 2\n",
       "\\item 2\n",
       "\\item 2\n",
       "\\item 2\n",
       "\\item 2\n",
       "\\item 2\n",
       "\\item 2\n",
       "\\item 2\n",
       "\\item 2\n",
       "\\item 2\n",
       "\\item 2\n",
       "\\item 2\n",
       "\\item 2\n",
       "\\item 2\n",
       "\\item 2\n",
       "\\item 2\n",
       "\\item 2\n",
       "\\item 2\n",
       "\\item 2\n",
       "\\item 2\n",
       "\\item 2\n",
       "\\item 2\n",
       "\\item 2\n",
       "\\item 2\n",
       "\\item 2\n",
       "\\item 2\n",
       "\\item 3\n",
       "\\item 3\n",
       "\\item 3\n",
       "\\item 3\n",
       "\\item 3\n",
       "\\item 3\n",
       "\\item 3\n",
       "\\item 3\n",
       "\\item 3\n",
       "\\item 3\n",
       "\\item 3\n",
       "\\item 3\n",
       "\\item 3\n",
       "\\item 3\n",
       "\\item 3\n",
       "\\item 3\n",
       "\\item 3\n",
       "\\item 3\n",
       "\\item 3\n",
       "\\item 3\n",
       "\\item 3\n",
       "\\item 3\n",
       "\\item 4\n",
       "\\item 4\n",
       "\\item 4\n",
       "\\item 4\n",
       "\\item 4\n",
       "\\item 4\n",
       "\\item 4\n",
       "\\item 4\n",
       "\\item 4\n",
       "\\item 4\n",
       "\\item 4\n",
       "\\item 4\n",
       "\\item 4\n",
       "\\item 4\n",
       "\\item 4\n",
       "\\end{enumerate*}\n"
      ],
      "text/markdown": [
       "1. 1\n",
       "2. 1\n",
       "3. 1\n",
       "4. 1\n",
       "5. 1\n",
       "6. 1\n",
       "7. 1\n",
       "8. 1\n",
       "9. 1\n",
       "10. 1\n",
       "11. 1\n",
       "12. 1\n",
       "13. 1\n",
       "14. 1\n",
       "15. 1\n",
       "16. 1\n",
       "17. 1\n",
       "18. 1\n",
       "19. 1\n",
       "20. 1\n",
       "21. 1\n",
       "22. 1\n",
       "23. 1\n",
       "24. 1\n",
       "25. 1\n",
       "26. 1\n",
       "27. 1\n",
       "28. 1\n",
       "29. 1\n",
       "30. 1\n",
       "31. 1\n",
       "32. 1\n",
       "33. 1\n",
       "34. 1\n",
       "35. 1\n",
       "36. 1\n",
       "37. 1\n",
       "38. 1\n",
       "39. 1\n",
       "40. 1\n",
       "41. 1\n",
       "42. 1\n",
       "43. 1\n",
       "44. 1\n",
       "45. 1\n",
       "46. 1\n",
       "47. 2\n",
       "48. 2\n",
       "49. 2\n",
       "50. 2\n",
       "51. 2\n",
       "52. 2\n",
       "53. 2\n",
       "54. 2\n",
       "55. 2\n",
       "56. 2\n",
       "57. 2\n",
       "58. 2\n",
       "59. 2\n",
       "60. 2\n",
       "61. 2\n",
       "62. 2\n",
       "63. 2\n",
       "64. 2\n",
       "65. 2\n",
       "66. 2\n",
       "67. 2\n",
       "68. 2\n",
       "69. 2\n",
       "70. 2\n",
       "71. 2\n",
       "72. 2\n",
       "73. 2\n",
       "74. 2\n",
       "75. 2\n",
       "76. 2\n",
       "77. 2\n",
       "78. 2\n",
       "79. 2\n",
       "80. 2\n",
       "81. 3\n",
       "82. 3\n",
       "83. 3\n",
       "84. 3\n",
       "85. 3\n",
       "86. 3\n",
       "87. 3\n",
       "88. 3\n",
       "89. 3\n",
       "90. 3\n",
       "91. 3\n",
       "92. 3\n",
       "93. 3\n",
       "94. 3\n",
       "95. 3\n",
       "96. 3\n",
       "97. 3\n",
       "98. 3\n",
       "99. 3\n",
       "100. 3\n",
       "101. 3\n",
       "102. 3\n",
       "103. 4\n",
       "104. 4\n",
       "105. 4\n",
       "106. 4\n",
       "107. 4\n",
       "108. 4\n",
       "109. 4\n",
       "110. 4\n",
       "111. 4\n",
       "112. 4\n",
       "113. 4\n",
       "114. 4\n",
       "115. 4\n",
       "116. 4\n",
       "117. 4\n",
       "\n",
       "\n"
      ],
      "text/plain": [
       "  [1] 1 1 1 1 1 1 1 1 1 1 1 1 1 1 1 1 1 1 1 1 1 1 1 1 1 1 1 1 1 1 1 1 1 1 1 1 1\n",
       " [38] 1 1 1 1 1 1 1 1 1 2 2 2 2 2 2 2 2 2 2 2 2 2 2 2 2 2 2 2 2 2 2 2 2 2 2 2 2\n",
       " [75] 2 2 2 2 2 2 3 3 3 3 3 3 3 3 3 3 3 3 3 3 3 3 3 3 3 3 3 3 4 4 4 4 4 4 4 4 4\n",
       "[112] 4 4 4 4 4 4"
      ]
     },
     "metadata": {},
     "output_type": "display_data"
    }
   ],
   "source": [
    "level_mapping <- c(\"ependymoma\" = 1, \"glioblastoma\" = 2, \"medulloblastoma\" = 3, \"pilocytic astrocytoma\" = 4)\n",
    "map_strings_to_numbers <- function(strings) {\n",
    "  factorized <- factor(strings, levels = names(level_mapping))\n",
    "  as.numeric(factorized)\n",
    "}\n",
    "gold_standard_vector = as.vector(unlist(lapply(dataset[\"Description\"], map_strings_to_numbers)))\n",
    "gold_standard_vector"
   ]
  },
  {
   "cell_type": "markdown",
   "id": "82a10a31",
   "metadata": {},
   "source": [
    "# Clest <a class=\"anchor\" id=\"clest\"></a>\n",
    "Execution of Clest over the previous dataset."
   ]
  },
  {
   "cell_type": "code",
   "execution_count": 5,
   "id": "e6e4f6f7-49be-478f-9258-f30c81a7e48d",
   "metadata": {},
   "outputs": [
    {
     "name": "stderr",
     "output_type": "stream",
     "text": [
      "Clest optimal k: 3\n",
      "\n"
     ]
    }
   ],
   "source": [
    "dataset_matrix = as.matrix(dataset[, -1])\n",
    "clest_result = clusterAnalysis::clest(dataset_matrix, maxK=10, pmax=0.05, dmin=0.05, B=20,B0=20,\n",
    "                                  clusterAlg=myPam, rho=2/3, similarity=dendextend::FM_index_R, verbose=FALSE)\n",
    "message(paste0(\"Clest optimal k: \", clest_result$kopt))"
   ]
  },
  {
   "cell_type": "code",
   "execution_count": 6,
   "id": "f9076b37-b31d-45a7-94e4-9287262f0d02",
   "metadata": {},
   "outputs": [],
   "source": [
    "pa = cluster::pam(dataset_matrix, clest_result$kopt)\n",
    "predicted = pa$clustering"
   ]
  },
  {
   "cell_type": "code",
   "execution_count": 7,
   "id": "46266483-d739-443c-b9d8-78c6237d8401",
   "metadata": {},
   "outputs": [
    {
     "name": "stderr",
     "output_type": "stream",
     "text": [
      "Parameter 'npc' is null. Computing number of factors automatically:\n",
      "\n",
      "Number of factors, 'ncp' used is: 27\n",
      "\n"
     ]
    }
   ],
   "source": [
    "dataset[\"Cluster\"] = as.factor(as.numeric(predicted))\n",
    "pca_matrix = dataset %>% select(-Cluster)\n",
    "r_pca = evaluomeR::performPCA(dataset = pca_matrix)\n",
    "pca_df = r_pca$dataset_ncp\n",
    "pca_df$Cluster <- as.factor(dataset$Cluster)\n",
    "pca_df$Description <- dataset$Description"
   ]
  },
  {
   "cell_type": "code",
   "execution_count": 8,
   "id": "dc4f0d0d-3b75-4df3-b3d0-551d1a1a4872",
   "metadata": {},
   "outputs": [
    {
     "data": {
      "text/html": [
       "<style>\n",
       ".list-inline {list-style: none; margin:0; padding: 0}\n",
       ".list-inline>li {display: inline-block}\n",
       ".list-inline>li:not(:last-child)::after {content: \"\\00b7\"; padding: 0 .5ex}\n",
       "</style>\n",
       "<ol class=list-inline><li>'ependymoma'</li><li>'glioblastoma'</li><li>'medulloblastoma'</li><li>'pilocytic astrocytoma'</li></ol>\n"
      ],
      "text/latex": [
       "\\begin{enumerate*}\n",
       "\\item 'ependymoma'\n",
       "\\item 'glioblastoma'\n",
       "\\item 'medulloblastoma'\n",
       "\\item 'pilocytic astrocytoma'\n",
       "\\end{enumerate*}\n"
      ],
      "text/markdown": [
       "1. 'ependymoma'\n",
       "2. 'glioblastoma'\n",
       "3. 'medulloblastoma'\n",
       "4. 'pilocytic astrocytoma'\n",
       "\n",
       "\n"
      ],
      "text/plain": [
       "[1] \"ependymoma\"            \"glioblastoma\"          \"medulloblastoma\"      \n",
       "[4] \"pilocytic astrocytoma\""
      ]
     },
     "metadata": {},
     "output_type": "display_data"
    }
   ],
   "source": [
    "unique(dataset$Description)"
   ]
  },
  {
   "cell_type": "code",
   "execution_count": 9,
   "id": "6b098874-e738-4cdf-8a91-3db517b22bca",
   "metadata": {},
   "outputs": [],
   "source": [
    "# Creating shapes for individuals\n",
    "pca_df <- pca_df %>%\n",
    "  mutate(\n",
    "    # Extract the letter from the Description column\n",
    "    Letter = Description,\n",
    "    # Map the letter to a number\n",
    "    GoldStandard = case_when(\n",
    "      Letter == \"ependymoma\" ~ 16,\n",
    "      Letter == \"glioblastoma\" ~ 17,\n",
    "      Letter == \"medulloblastoma\" ~ 18,\n",
    "      Letter == \"pilocytic astrocytoma\" ~ 21,\n",
    "      TRUE ~ NA_real_  # Else...\n",
    "    )\n",
    "  )\n",
    "pca_df$GoldStandard = as.factor(pca_df$GoldStandard)"
   ]
  },
  {
   "cell_type": "code",
   "execution_count": 10,
   "id": "3a894e78-b50f-4117-9a02-a0ae9ef5ba7c",
   "metadata": {},
   "outputs": [
    {
     "data": {
      "text/html": [
       "<table class=\"dataframe\">\n",
       "<caption>A data.frame: 6 × 31</caption>\n",
       "<thead>\n",
       "\t<tr><th></th><th scope=col>Description</th><th scope=col>Dim.1</th><th scope=col>Dim.2</th><th scope=col>Dim.3</th><th scope=col>Dim.4</th><th scope=col>Dim.5</th><th scope=col>Dim.6</th><th scope=col>Dim.7</th><th scope=col>Dim.8</th><th scope=col>Dim.9</th><th scope=col>⋯</th><th scope=col>Dim.21</th><th scope=col>Dim.22</th><th scope=col>Dim.23</th><th scope=col>Dim.24</th><th scope=col>Dim.25</th><th scope=col>Dim.26</th><th scope=col>Dim.27</th><th scope=col>Cluster</th><th scope=col>Letter</th><th scope=col>GoldStandard</th></tr>\n",
       "\t<tr><th></th><th scope=col>&lt;chr&gt;</th><th scope=col>&lt;dbl&gt;</th><th scope=col>&lt;dbl&gt;</th><th scope=col>&lt;dbl&gt;</th><th scope=col>&lt;dbl&gt;</th><th scope=col>&lt;dbl&gt;</th><th scope=col>&lt;dbl&gt;</th><th scope=col>&lt;dbl&gt;</th><th scope=col>&lt;dbl&gt;</th><th scope=col>&lt;dbl&gt;</th><th scope=col>⋯</th><th scope=col>&lt;dbl&gt;</th><th scope=col>&lt;dbl&gt;</th><th scope=col>&lt;dbl&gt;</th><th scope=col>&lt;dbl&gt;</th><th scope=col>&lt;dbl&gt;</th><th scope=col>&lt;dbl&gt;</th><th scope=col>&lt;dbl&gt;</th><th scope=col>&lt;fct&gt;</th><th scope=col>&lt;chr&gt;</th><th scope=col>&lt;fct&gt;</th></tr>\n",
       "</thead>\n",
       "<tbody>\n",
       "\t<tr><th scope=row>GSM1214834</th><td>ependymoma</td><td>12.561918</td><td>-1.4641986</td><td> 0.7363418</td><td> 1.3471069</td><td>-2.8638011</td><td>-2.945067</td><td>-1.50084831</td><td>-0.1384718</td><td> 2.474080</td><td>⋯</td><td> 0.3586742</td><td>-0.3270069</td><td>-0.3504206</td><td>-0.9995957</td><td> 2.087732</td><td> 0.4515039</td><td> 0.5587252</td><td>1</td><td>ependymoma</td><td>16</td></tr>\n",
       "\t<tr><th scope=row>GSM1214835</th><td>ependymoma</td><td> 4.133018</td><td>-3.3395813</td><td>-4.9842313</td><td> 4.1161621</td><td> 0.2925451</td><td> 4.182317</td><td> 2.24060108</td><td> 1.0249558</td><td>-4.200720</td><td>⋯</td><td> 0.5669432</td><td>-1.8163583</td><td> 2.3322845</td><td> 1.0674445</td><td> 0.900603</td><td>-0.1814810</td><td>-0.1456840</td><td>1</td><td>ependymoma</td><td>16</td></tr>\n",
       "\t<tr><th scope=row>GSM1214836</th><td>ependymoma</td><td> 7.241202</td><td> 1.9148566</td><td> 1.7250275</td><td>-2.1822013</td><td> 1.1753469</td><td>-1.152468</td><td> 1.24981063</td><td>-0.8871428</td><td>-1.118430</td><td>⋯</td><td> 0.2224675</td><td> 1.5492335</td><td>-0.9281582</td><td>-1.0931953</td><td>-1.200774</td><td>-0.1911772</td><td> 2.7884355</td><td>1</td><td>ependymoma</td><td>16</td></tr>\n",
       "\t<tr><th scope=row>GSM1214837</th><td>ependymoma</td><td> 7.639513</td><td>-1.6037920</td><td>-3.2939010</td><td> 5.8350876</td><td>-0.3011314</td><td>-0.775895</td><td>-2.08000573</td><td> 1.0912472</td><td> 2.182143</td><td>⋯</td><td>-1.7855834</td><td> 1.1636987</td><td> 0.7131167</td><td> 0.1006414</td><td>-2.156778</td><td> 0.8665074</td><td> 0.6691529</td><td>1</td><td>ependymoma</td><td>16</td></tr>\n",
       "\t<tr><th scope=row>GSM1214838</th><td>ependymoma</td><td> 8.618313</td><td>-0.5650169</td><td>-1.5441642</td><td> 0.7943312</td><td>-0.1227440</td><td>-4.378847</td><td>-2.27634499</td><td> 4.3092283</td><td> 1.345921</td><td>⋯</td><td> 0.6152089</td><td>-1.6733168</td><td> 0.9503782</td><td> 0.4330811</td><td>-0.622364</td><td>-0.3962576</td><td> 1.5274511</td><td>1</td><td>ependymoma</td><td>16</td></tr>\n",
       "\t<tr><th scope=row>GSM1214839</th><td>ependymoma</td><td>11.888910</td><td>-0.4046745</td><td> 1.8045015</td><td> 1.0152492</td><td>-3.2656727</td><td>-2.618910</td><td>-0.03348363</td><td> 0.9154421</td><td> 1.884249</td><td>⋯</td><td> 1.7754717</td><td> 0.4433422</td><td>-0.1961921</td><td> 0.3610509</td><td> 1.203225</td><td>-1.1983024</td><td>-0.2017694</td><td>1</td><td>ependymoma</td><td>16</td></tr>\n",
       "</tbody>\n",
       "</table>\n"
      ],
      "text/latex": [
       "A data.frame: 6 × 31\n",
       "\\begin{tabular}{r|lllllllllllllllllllll}\n",
       "  & Description & Dim.1 & Dim.2 & Dim.3 & Dim.4 & Dim.5 & Dim.6 & Dim.7 & Dim.8 & Dim.9 & ⋯ & Dim.21 & Dim.22 & Dim.23 & Dim.24 & Dim.25 & Dim.26 & Dim.27 & Cluster & Letter & GoldStandard\\\\\n",
       "  & <chr> & <dbl> & <dbl> & <dbl> & <dbl> & <dbl> & <dbl> & <dbl> & <dbl> & <dbl> & ⋯ & <dbl> & <dbl> & <dbl> & <dbl> & <dbl> & <dbl> & <dbl> & <fct> & <chr> & <fct>\\\\\n",
       "\\hline\n",
       "\tGSM1214834 & ependymoma & 12.561918 & -1.4641986 &  0.7363418 &  1.3471069 & -2.8638011 & -2.945067 & -1.50084831 & -0.1384718 &  2.474080 & ⋯ &  0.3586742 & -0.3270069 & -0.3504206 & -0.9995957 &  2.087732 &  0.4515039 &  0.5587252 & 1 & ependymoma & 16\\\\\n",
       "\tGSM1214835 & ependymoma &  4.133018 & -3.3395813 & -4.9842313 &  4.1161621 &  0.2925451 &  4.182317 &  2.24060108 &  1.0249558 & -4.200720 & ⋯ &  0.5669432 & -1.8163583 &  2.3322845 &  1.0674445 &  0.900603 & -0.1814810 & -0.1456840 & 1 & ependymoma & 16\\\\\n",
       "\tGSM1214836 & ependymoma &  7.241202 &  1.9148566 &  1.7250275 & -2.1822013 &  1.1753469 & -1.152468 &  1.24981063 & -0.8871428 & -1.118430 & ⋯ &  0.2224675 &  1.5492335 & -0.9281582 & -1.0931953 & -1.200774 & -0.1911772 &  2.7884355 & 1 & ependymoma & 16\\\\\n",
       "\tGSM1214837 & ependymoma &  7.639513 & -1.6037920 & -3.2939010 &  5.8350876 & -0.3011314 & -0.775895 & -2.08000573 &  1.0912472 &  2.182143 & ⋯ & -1.7855834 &  1.1636987 &  0.7131167 &  0.1006414 & -2.156778 &  0.8665074 &  0.6691529 & 1 & ependymoma & 16\\\\\n",
       "\tGSM1214838 & ependymoma &  8.618313 & -0.5650169 & -1.5441642 &  0.7943312 & -0.1227440 & -4.378847 & -2.27634499 &  4.3092283 &  1.345921 & ⋯ &  0.6152089 & -1.6733168 &  0.9503782 &  0.4330811 & -0.622364 & -0.3962576 &  1.5274511 & 1 & ependymoma & 16\\\\\n",
       "\tGSM1214839 & ependymoma & 11.888910 & -0.4046745 &  1.8045015 &  1.0152492 & -3.2656727 & -2.618910 & -0.03348363 &  0.9154421 &  1.884249 & ⋯ &  1.7754717 &  0.4433422 & -0.1961921 &  0.3610509 &  1.203225 & -1.1983024 & -0.2017694 & 1 & ependymoma & 16\\\\\n",
       "\\end{tabular}\n"
      ],
      "text/markdown": [
       "\n",
       "A data.frame: 6 × 31\n",
       "\n",
       "| <!--/--> | Description &lt;chr&gt; | Dim.1 &lt;dbl&gt; | Dim.2 &lt;dbl&gt; | Dim.3 &lt;dbl&gt; | Dim.4 &lt;dbl&gt; | Dim.5 &lt;dbl&gt; | Dim.6 &lt;dbl&gt; | Dim.7 &lt;dbl&gt; | Dim.8 &lt;dbl&gt; | Dim.9 &lt;dbl&gt; | ⋯ ⋯ | Dim.21 &lt;dbl&gt; | Dim.22 &lt;dbl&gt; | Dim.23 &lt;dbl&gt; | Dim.24 &lt;dbl&gt; | Dim.25 &lt;dbl&gt; | Dim.26 &lt;dbl&gt; | Dim.27 &lt;dbl&gt; | Cluster &lt;fct&gt; | Letter &lt;chr&gt; | GoldStandard &lt;fct&gt; |\n",
       "|---|---|---|---|---|---|---|---|---|---|---|---|---|---|---|---|---|---|---|---|---|---|\n",
       "| GSM1214834 | ependymoma | 12.561918 | -1.4641986 |  0.7363418 |  1.3471069 | -2.8638011 | -2.945067 | -1.50084831 | -0.1384718 |  2.474080 | ⋯ |  0.3586742 | -0.3270069 | -0.3504206 | -0.9995957 |  2.087732 |  0.4515039 |  0.5587252 | 1 | ependymoma | 16 |\n",
       "| GSM1214835 | ependymoma |  4.133018 | -3.3395813 | -4.9842313 |  4.1161621 |  0.2925451 |  4.182317 |  2.24060108 |  1.0249558 | -4.200720 | ⋯ |  0.5669432 | -1.8163583 |  2.3322845 |  1.0674445 |  0.900603 | -0.1814810 | -0.1456840 | 1 | ependymoma | 16 |\n",
       "| GSM1214836 | ependymoma |  7.241202 |  1.9148566 |  1.7250275 | -2.1822013 |  1.1753469 | -1.152468 |  1.24981063 | -0.8871428 | -1.118430 | ⋯ |  0.2224675 |  1.5492335 | -0.9281582 | -1.0931953 | -1.200774 | -0.1911772 |  2.7884355 | 1 | ependymoma | 16 |\n",
       "| GSM1214837 | ependymoma |  7.639513 | -1.6037920 | -3.2939010 |  5.8350876 | -0.3011314 | -0.775895 | -2.08000573 |  1.0912472 |  2.182143 | ⋯ | -1.7855834 |  1.1636987 |  0.7131167 |  0.1006414 | -2.156778 |  0.8665074 |  0.6691529 | 1 | ependymoma | 16 |\n",
       "| GSM1214838 | ependymoma |  8.618313 | -0.5650169 | -1.5441642 |  0.7943312 | -0.1227440 | -4.378847 | -2.27634499 |  4.3092283 |  1.345921 | ⋯ |  0.6152089 | -1.6733168 |  0.9503782 |  0.4330811 | -0.622364 | -0.3962576 |  1.5274511 | 1 | ependymoma | 16 |\n",
       "| GSM1214839 | ependymoma | 11.888910 | -0.4046745 |  1.8045015 |  1.0152492 | -3.2656727 | -2.618910 | -0.03348363 |  0.9154421 |  1.884249 | ⋯ |  1.7754717 |  0.4433422 | -0.1961921 |  0.3610509 |  1.203225 | -1.1983024 | -0.2017694 | 1 | ependymoma | 16 |\n",
       "\n"
      ],
      "text/plain": [
       "           Description Dim.1     Dim.2      Dim.3      Dim.4      Dim.5     \n",
       "GSM1214834 ependymoma  12.561918 -1.4641986  0.7363418  1.3471069 -2.8638011\n",
       "GSM1214835 ependymoma   4.133018 -3.3395813 -4.9842313  4.1161621  0.2925451\n",
       "GSM1214836 ependymoma   7.241202  1.9148566  1.7250275 -2.1822013  1.1753469\n",
       "GSM1214837 ependymoma   7.639513 -1.6037920 -3.2939010  5.8350876 -0.3011314\n",
       "GSM1214838 ependymoma   8.618313 -0.5650169 -1.5441642  0.7943312 -0.1227440\n",
       "GSM1214839 ependymoma  11.888910 -0.4046745  1.8045015  1.0152492 -3.2656727\n",
       "           Dim.6     Dim.7       Dim.8      Dim.9     ⋯ Dim.21     Dim.22    \n",
       "GSM1214834 -2.945067 -1.50084831 -0.1384718  2.474080 ⋯  0.3586742 -0.3270069\n",
       "GSM1214835  4.182317  2.24060108  1.0249558 -4.200720 ⋯  0.5669432 -1.8163583\n",
       "GSM1214836 -1.152468  1.24981063 -0.8871428 -1.118430 ⋯  0.2224675  1.5492335\n",
       "GSM1214837 -0.775895 -2.08000573  1.0912472  2.182143 ⋯ -1.7855834  1.1636987\n",
       "GSM1214838 -4.378847 -2.27634499  4.3092283  1.345921 ⋯  0.6152089 -1.6733168\n",
       "GSM1214839 -2.618910 -0.03348363  0.9154421  1.884249 ⋯  1.7754717  0.4433422\n",
       "           Dim.23     Dim.24     Dim.25    Dim.26     Dim.27     Cluster\n",
       "GSM1214834 -0.3504206 -0.9995957  2.087732  0.4515039  0.5587252 1      \n",
       "GSM1214835  2.3322845  1.0674445  0.900603 -0.1814810 -0.1456840 1      \n",
       "GSM1214836 -0.9281582 -1.0931953 -1.200774 -0.1911772  2.7884355 1      \n",
       "GSM1214837  0.7131167  0.1006414 -2.156778  0.8665074  0.6691529 1      \n",
       "GSM1214838  0.9503782  0.4330811 -0.622364 -0.3962576  1.5274511 1      \n",
       "GSM1214839 -0.1961921  0.3610509  1.203225 -1.1983024 -0.2017694 1      \n",
       "           Letter     GoldStandard\n",
       "GSM1214834 ependymoma 16          \n",
       "GSM1214835 ependymoma 16          \n",
       "GSM1214836 ependymoma 16          \n",
       "GSM1214837 ependymoma 16          \n",
       "GSM1214838 ependymoma 16          \n",
       "GSM1214839 ependymoma 16          "
      ]
     },
     "metadata": {},
     "output_type": "display_data"
    }
   ],
   "source": [
    "head(pca_df)"
   ]
  },
  {
   "cell_type": "code",
   "execution_count": 19,
   "id": "660f9307-e1cc-4757-83f3-7cd4ceebbe59",
   "metadata": {},
   "outputs": [
    {
     "name": "stderr",
     "output_type": "stream",
     "text": [
      "Warning message:\n",
      "\"\u001b[1m\u001b[22mThe following aesthetics were dropped during statistical transformation: \u001b[32mshape\u001b[39m\n",
      "and \u001b[32mlabel\u001b[39m.\n",
      "\u001b[36mℹ\u001b[39m This can happen when ggplot fails to infer the correct grouping structure in\n",
      "  the data.\n",
      "\u001b[36mℹ\u001b[39m Did you forget to specify a `group` aesthetic or to convert a numerical\n",
      "  variable into a factor?\"\n",
      "Warning message:\n",
      "\"ggrepel: 114 unlabeled data points (too many overlaps). Consider increasing max.overlaps\"\n"
     ]
    },
    {
     "data": {
      "image/png": "[encoded data removed]",
      "text/plain": [
       "plot without title"
      ]
     },
     "metadata": {
      "image/png": {
       "height": 720,
       "width": 720
      }
     },
     "output_type": "display_data"
    }
   ],
   "source": [
    "cluster_colors <- c(\"#2E86C1\", \"#28B463\", \"#E74C3C\", \"#9B59B6\", \"#F1C40F\", \"#7F8C8D\", \n",
    "            \"#D35400\", \"#8E44AD\", \"#16A085\")\n",
    "\n",
    "cluster_shapes = c(16, 17, 18, 21, 22, 23, 24)\n",
    "cluster_labels = c(\"ependymoma\", \"medulloblastoma\", \"glioblastoma, pilocytic astrocytoma\")\n",
    "\n",
    "ggplot(pca_df, aes(x = Dim.1, y = Dim.2, shape = GoldStandard, color = Cluster, label = Description)) +\n",
    "  geom_point(size = 3) +\n",
    "  geom_text_repel(\n",
    "    vjust = 1,\n",
    "    hjust = 1,\n",
    "    size = 5,\n",
    "    show.legend = FALSE,\n",
    "    point.padding = 0.4,\n",
    "    box.padding = 0.25,\n",
    "    max.overlaps = 5,\n",
    "    segment.color = \"grey70\",\n",
    "    segment.size = 0.2\n",
    "  ) +\n",
    "  stat_ellipse(aes(fill = Cluster, group = Cluster), level = 0.95, alpha = 0.2, geom = \"polygon\") +\n",
    "  labs(\n",
    "    title = \"Clest Brain Tumor classification\",\n",
    "    x = \"Principal Component 1\",\n",
    "    y = \"Principal Component 2\"\n",
    "  ) +\n",
    "  scale_shape_manual(values = cluster_shapes, labels = unique(pca_df$Description)) +\n",
    "  scale_color_manual(values = cluster_colors, labels = cluster_labels)  +\n",
    "  scale_fill_manual(values = cluster_colors, labels = cluster_labels)   +\n",
    "  theme_minimal(base_size = 15) +\n",
    "  theme(\n",
    "    plot.title = element_text(hjust = 0.5, size = 18, face = \"bold\"),\n",
    "    axis.title.x = element_text(size = 20),\n",
    "    axis.title.y = element_text(size = 20),\n",
    "    axis.text = element_text(size = 16),\n",
    "    legend.position = \"right\",\n",
    "    legend.title = element_text(size = 18),\n",
    "    legend.text = element_text(size = 16),\n",
    "    panel.grid.major = element_line(color = \"grey90\"),\n",
    "    panel.grid.minor = element_blank()\n",
    "  )"
   ]
  },
  {
   "cell_type": "code",
   "execution_count": 17,
   "id": "ec847c32",
   "metadata": {},
   "outputs": [
    {
     "data": {
      "text/html": [
       "<table class=\"dataframe\">\n",
       "<caption>A data.frame: 1 × 4</caption>\n",
       "<thead>\n",
       "\t<tr><th></th><th scope=col>ependymoma</th><th scope=col>glioblastoma</th><th scope=col>medulloblastoma</th><th scope=col>pilocytic astrocytoma</th></tr>\n",
       "\t<tr><th></th><th scope=col>&lt;chr&gt;</th><th scope=col>&lt;chr&gt;</th><th scope=col>&lt;chr&gt;</th><th scope=col>&lt;chr&gt;</th></tr>\n",
       "</thead>\n",
       "<tbody>\n",
       "\t<tr><th scope=row>Sensitivity. (%)</th><td>93</td><td>94</td><td>100</td><td>100</td></tr>\n",
       "</tbody>\n",
       "</table>\n"
      ],
      "text/latex": [
       "A data.frame: 1 × 4\n",
       "\\begin{tabular}{r|llll}\n",
       "  & ependymoma & glioblastoma & medulloblastoma & pilocytic astrocytoma\\\\\n",
       "  & <chr> & <chr> & <chr> & <chr>\\\\\n",
       "\\hline\n",
       "\tSensitivity. (\\%) & 93 & 94 & 100 & 100\\\\\n",
       "\\end{tabular}\n"
      ],
      "text/markdown": [
       "\n",
       "A data.frame: 1 × 4\n",
       "\n",
       "| <!--/--> | ependymoma &lt;chr&gt; | glioblastoma &lt;chr&gt; | medulloblastoma &lt;chr&gt; | pilocytic astrocytoma &lt;chr&gt; |\n",
       "|---|---|---|---|---|\n",
       "| Sensitivity. (%) | 93 | 94 | 100 | 100 |\n",
       "\n"
      ],
      "text/plain": [
       "                 ependymoma glioblastoma medulloblastoma pilocytic astrocytoma\n",
       "Sensitivity. (%) 93         94           100             100                  "
      ]
     },
     "metadata": {},
     "output_type": "display_data"
    },
    {
     "data": {
      "text/html": [
       "'(93,94,100,100)'"
      ],
      "text/latex": [
       "'(93,94,100,100)'"
      ],
      "text/markdown": [
       "'(93,94,100,100)'"
      ],
      "text/plain": [
       "[1] \"(93,94,100,100)\""
      ]
     },
     "metadata": {},
     "output_type": "display_data"
    }
   ],
   "source": [
    "sen = RSKC::Sensitivity(predicted, gold_standard_vector)\n",
    "sensitivity_table <- sen$prob[1,]\n",
    "names(sensitivity_table) = unique(dataset$Description)\n",
    "sensitivity_table\n",
    "paste0(\"(\", paste(unlist(sensitivity_table), collapse = \",\"), \")\")"
   ]
  },
  {
   "cell_type": "code",
   "execution_count": 18,
   "id": "c6c2190f-f90c-4c67-9f3f-c58263b072c6",
   "metadata": {},
   "outputs": [
    {
     "name": "stdout",
     "output_type": "stream",
     "text": [
      "[1] \"CER: 12.64%\"\n"
     ]
    }
   ],
   "source": [
    "cer = CER(predicted, gold_standard_vector)\n",
    "cer = format(round(cer*100, 2), nsmall = 2)\n",
    "print(paste0(\"CER: \", cer, \"%\"))"
   ]
  },
  {
   "cell_type": "code",
   "execution_count": 14,
   "id": "ffcd8d44-1c68-4061-9345-765fb493f7ca",
   "metadata": {},
   "outputs": [
    {
     "data": {
      "text/html": [
       "<dl>\n",
       "\t<dt>$p</dt>\n",
       "\t\t<dd><style>\n",
       ".list-inline {list-style: none; margin:0; padding: 0}\n",
       ".list-inline>li {display: inline-block}\n",
       ".list-inline>li:not(:last-child)::after {content: \"\\00b7\"; padding: 0 .5ex}\n",
       "</style>\n",
       "<ol class=list-inline><li>0</li><li>0</li><li>0</li><li>0</li><li>0</li><li>0</li><li>0</li><li>0</li><li>0</li></ol>\n",
       "</dd>\n",
       "\t<dt>$d</dt>\n",
       "\t\t<dd><style>\n",
       ".list-inline {list-style: none; margin:0; padding: 0}\n",
       ".list-inline>li {display: inline-block}\n",
       ".list-inline>li:not(:last-child)::after {content: \"\\00b7\"; padding: 0 .5ex}\n",
       "</style>\n",
       "<ol class=list-inline><li>0.405585893509902</li><li>0.488912354658432</li><li>0.324642460208373</li><li>0.362102533009847</li><li>0.360163333857708</li><li>0.334345490770106</li><li>0.353365249312007</li><li>0.394837277225328</li><li>0.378505526685773</li></ol>\n",
       "</dd>\n",
       "\t<dt>$kopt</dt>\n",
       "\t\t<dd>3</dd>\n",
       "</dl>\n"
      ],
      "text/latex": [
       "\\begin{description}\n",
       "\\item[\\$p] \\begin{enumerate*}\n",
       "\\item 0\n",
       "\\item 0\n",
       "\\item 0\n",
       "\\item 0\n",
       "\\item 0\n",
       "\\item 0\n",
       "\\item 0\n",
       "\\item 0\n",
       "\\item 0\n",
       "\\end{enumerate*}\n",
       "\n",
       "\\item[\\$d] \\begin{enumerate*}\n",
       "\\item 0.405585893509902\n",
       "\\item 0.488912354658432\n",
       "\\item 0.324642460208373\n",
       "\\item 0.362102533009847\n",
       "\\item 0.360163333857708\n",
       "\\item 0.334345490770106\n",
       "\\item 0.353365249312007\n",
       "\\item 0.394837277225328\n",
       "\\item 0.378505526685773\n",
       "\\end{enumerate*}\n",
       "\n",
       "\\item[\\$kopt] 3\n",
       "\\end{description}\n"
      ],
      "text/markdown": [
       "$p\n",
       ":   1. 0\n",
       "2. 0\n",
       "3. 0\n",
       "4. 0\n",
       "5. 0\n",
       "6. 0\n",
       "7. 0\n",
       "8. 0\n",
       "9. 0\n",
       "\n",
       "\n",
       "\n",
       "$d\n",
       ":   1. 0.405585893509902\n",
       "2. 0.488912354658432\n",
       "3. 0.324642460208373\n",
       "4. 0.362102533009847\n",
       "5. 0.360163333857708\n",
       "6. 0.334345490770106\n",
       "7. 0.353365249312007\n",
       "8. 0.394837277225328\n",
       "9. 0.378505526685773\n",
       "\n",
       "\n",
       "\n",
       "$kopt\n",
       ":   3\n",
       "\n",
       "\n"
      ],
      "text/plain": [
       "$p\n",
       "[1] 0 0 0 0 0 0 0 0 0\n",
       "\n",
       "$d\n",
       "[1] 0.4055859 0.4889124 0.3246425 0.3621025 0.3601633 0.3343455 0.3533652\n",
       "[8] 0.3948373 0.3785055\n",
       "\n",
       "$kopt\n",
       "[1] 3\n"
      ]
     },
     "metadata": {},
     "output_type": "display_data"
    }
   ],
   "source": [
    "clest_result"
   ]
  },
  {
   "cell_type": "code",
   "execution_count": 20,
   "id": "12a8371d-2f8c-4e1c-b889-9013a0644d2d",
   "metadata": {},
   "outputs": [
    {
     "name": "stderr",
     "output_type": "stream",
     "text": [
      "Warning message:\n",
      "\"\u001b[1m\u001b[22mRemoved 1 row containing missing values or values outside the scale range\n",
      "(`geom_line()`).\"\n",
      "Warning message:\n",
      "\"\u001b[1m\u001b[22mRemoved 1 row containing missing values or values outside the scale range\n",
      "(`geom_point()`).\"\n"
     ]
    },
    {
     "data": {
      "image/png": "[encoded data removed]",
      "text/plain": [
       "plot without title"
      ]
     },
     "metadata": {
      "image/png": {
       "height": 720,
       "width": 720
      }
     },
     "output_type": "display_data"
    }
   ],
   "source": [
    "df <- data.frame(K = c(2:10), \n",
    "                 Difference = clest_result$d)\n",
    "\n",
    "ggplot(df, aes(x = K, y = Difference)) +\n",
    "  geom_line(color = \"#4B4B4B\", size = 1.2) +\n",
    "  geom_point(size = 3, color = \"#4B4B4B\") +\n",
    "  geom_hline(yintercept = 0.05, linetype = \"dashed\", color = \"black\", size = 1) +\n",
    "  scale_y_continuous(breaks = seq(0, max(df$Difference) + 0.05, by = 0.05)) +\n",
    "  scale_x_continuous(\n",
    "    limits = c(3, max(df$K)),\n",
    "    breaks = seq(3, max(df$K), by = 1)\n",
    "  ) +\n",
    "  labs(title = \"Brain Tumor - Clest\",\n",
    "       subtitle = \"Difference between observed similarity and expected value\",\n",
    "       x = \"k\", \n",
    "       y = \"Difference (d)\") +\n",
    "  theme_minimal() +\n",
    "  theme(\n",
    "    plot.title = element_text(hjust = 0.5, size = 24, face = \"bold\"),\n",
    "    plot.subtitle = element_text(hjust = 0.5, size = 24, face = \"italic\", color = \"gray40\"),\n",
    "    legend.position = \"right\",\n",
    "    legend.title = element_text(size = 24),\n",
    "    legend.text = element_text(size = 20),\n",
    "    axis.title.x = element_text(size = 24),\n",
    "    axis.title.y = element_text(size = 24),\n",
    "    axis.text = element_text(size = 20)\n",
    "  )"
   ]
  },
  {
   "cell_type": "code",
   "execution_count": null,
   "id": "fb23ed7b-57b3-4ba0-9386-706d253cfe53",
   "metadata": {},
   "outputs": [],
   "source": []
  }
 ],
 "metadata": {
  "kernelspec": {
   "display_name": "R",
   "language": "R",
   "name": "ir"
  },
  "language_info": {
   "codemirror_mode": "r",
   "file_extension": ".r",
   "mimetype": "text/x-r-source",
   "name": "R",
   "pygments_lexer": "r",
   "version": "4.4.1"
  }
 },
 "nbformat": 4,
 "nbformat_minor": 5
}
