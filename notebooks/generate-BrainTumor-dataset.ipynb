{
 "cells": [
  {
   "cell_type": "markdown",
   "id": "285a2f02",
   "metadata": {},
   "source": [
    "# Brain Tumor Dataset retrieval"
   ]
  },
  {
   "cell_type": "code",
   "execution_count": 22,
   "id": "5b925569",
   "metadata": {
    "scrolled": true
   },
   "outputs": [
    {
     "name": "stderr",
     "output_type": "stream",
     "text": [
      "Warning message:\n",
      "\"packages 'GenomicDataCommons', 'dplyr', 'readr' are in use and will not be installed\"\n"
     ]
    }
   ],
   "source": [
    "# BiocManager::install(\"ExperimentHub\", \"GEOquery\")\n",
    "install.packages(c(\"GenomicDataCommons\", \"dplyr\", \"readr\"))\n",
    "\n",
    "options(scipen=10)\n",
    "options(repr.plot.width=12, repr.plot.height=12)"
   ]
  },
  {
   "cell_type": "code",
   "execution_count": 30,
   "id": "81bc540c-a5b7-4893-9026-6767bd61d53f",
   "metadata": {},
   "outputs": [
    {
     "name": "stderr",
     "output_type": "stream",
     "text": [
      "Found 1 file(s)\n",
      "\n",
      "GSE50161_series_matrix.txt.gz\n",
      "\n",
      "Using locally cached version: C:\\Users\\Neo\\AppData\\Local\\Temp\\Rtmpu6jrEV/GSE50161_series_matrix.txt.gz\n",
      "\n",
      "Using locally cached version of GPL570 found here:\n",
      "C:\\Users\\Neo\\AppData\\Local\\Temp\\Rtmpu6jrEV/GPL570.soft.gz \n",
      "\n"
     ]
    },
    {
     "data": {
      "text/html": [
       "<style>\n",
       ".list-inline {list-style: none; margin:0; padding: 0}\n",
       ".list-inline>li {display: inline-block}\n",
       ".list-inline>li:not(:last-child)::after {content: \"\\00b7\"; padding: 0 .5ex}\n",
       "</style>\n",
       "<ol class=list-inline><li>21050</li><li>130</li></ol>\n"
      ],
      "text/latex": [
       "\\begin{enumerate*}\n",
       "\\item 21050\n",
       "\\item 130\n",
       "\\end{enumerate*}\n"
      ],
      "text/markdown": [
       "1. 21050\n",
       "2. 130\n",
       "\n",
       "\n"
      ],
      "text/plain": [
       "[1] 21050   130"
      ]
     },
     "metadata": {},
     "output_type": "display_data"
    },
    {
     "data": {
      "text/plain": [
       "brain_labels\n",
       "                       cerebellum                        ependymoma \n",
       "                                2                                46 \n",
       "  frontal lobe of cerebral cortex                      glioblastoma \n",
       "                                3                                34 \n",
       "                          medulla                   medulloblastoma \n",
       "                                1                                22 \n",
       "                         midbrain occipital lobe of cerebral cortex \n",
       "                                1                                 2 \n",
       " parietal lobe of cerebral cortex             pilocytic astrocytoma \n",
       "                                2                                15 \n",
       " temporal lobe of cerebral cortex                          thalamus \n",
       "                                1                                 1 "
      ]
     },
     "metadata": {},
     "output_type": "display_data"
    },
    {
     "data": {
      "text/html": [
       "<style>\n",
       ".list-inline {list-style: none; margin:0; padding: 0}\n",
       ".list-inline>li {display: inline-block}\n",
       ".list-inline>li:not(:last-child)::after {content: \"\\00b7\"; padding: 0 .5ex}\n",
       "</style>\n",
       "<ol class=list-inline><li>117</li><li>201</li></ol>\n"
      ],
      "text/latex": [
       "\\begin{enumerate*}\n",
       "\\item 117\n",
       "\\item 201\n",
       "\\end{enumerate*}\n"
      ],
      "text/markdown": [
       "1. 117\n",
       "2. 201\n",
       "\n",
       "\n"
      ],
      "text/plain": [
       "[1] 117 201"
      ]
     },
     "metadata": {},
     "output_type": "display_data"
    },
    {
     "data": {
      "text/html": [
       "<table class=\"dataframe\">\n",
       "<caption>A data.frame: 6 × 201</caption>\n",
       "<thead>\n",
       "\t<tr><th></th><th scope=col>Description</th><th scope=col>X224588_at</th><th scope=col>X201909_at</th><th scope=col>X229012_at</th><th scope=col>X210033_s_at</th><th scope=col>X236448_at</th><th scope=col>X240065_at</th><th scope=col>X206018_at</th><th scope=col>X225165_at</th><th scope=col>X220156_at</th><th scope=col>⋯</th><th scope=col>X206306_at</th><th scope=col>X203649_s_at</th><th scope=col>X206785_s_at</th><th scope=col>X1563933_a_at</th><th scope=col>X238603_at</th><th scope=col>X205751_at</th><th scope=col>X210271_at</th><th scope=col>X228347_at</th><th scope=col>X232720_at</th><th scope=col>X209138_x_at</th></tr>\n",
       "\t<tr><th></th><th scope=col>&lt;chr&gt;</th><th scope=col>&lt;dbl&gt;</th><th scope=col>&lt;dbl&gt;</th><th scope=col>&lt;dbl&gt;</th><th scope=col>&lt;dbl&gt;</th><th scope=col>&lt;dbl&gt;</th><th scope=col>&lt;dbl&gt;</th><th scope=col>&lt;dbl&gt;</th><th scope=col>&lt;dbl&gt;</th><th scope=col>&lt;dbl&gt;</th><th scope=col>⋯</th><th scope=col>&lt;dbl&gt;</th><th scope=col>&lt;dbl&gt;</th><th scope=col>&lt;dbl&gt;</th><th scope=col>&lt;dbl&gt;</th><th scope=col>&lt;dbl&gt;</th><th scope=col>&lt;dbl&gt;</th><th scope=col>&lt;dbl&gt;</th><th scope=col>&lt;dbl&gt;</th><th scope=col>&lt;dbl&gt;</th><th scope=col>&lt;dbl&gt;</th></tr>\n",
       "</thead>\n",
       "<tbody>\n",
       "\t<tr><th scope=row>GSM1214834</th><td>ependymoma</td><td>1.678130</td><td>3.644194</td><td>3.820705</td><td>3.735552</td><td>1.172587</td><td>3.624207</td><td>1.794471</td><td>3.691314</td><td>3.589067</td><td>⋯</td><td>3.596530</td><td>1.873599</td><td>2.146811</td><td>3.110174</td><td>1.524128</td><td>2.563318</td><td>1.450476</td><td>1.880268</td><td>1.737017</td><td>1.776431</td></tr>\n",
       "\t<tr><th scope=row>GSM1214835</th><td>ependymoma</td><td>3.767506</td><td>1.667500</td><td>3.224272</td><td>3.566060</td><td>3.134809</td><td>3.381327</td><td>3.608933</td><td>3.828011</td><td>3.315655</td><td>⋯</td><td>1.716341</td><td>1.825732</td><td>2.149566</td><td>1.619617</td><td>1.601342</td><td>2.726899</td><td>2.637962</td><td>1.991922</td><td>1.788192</td><td>2.720051</td></tr>\n",
       "\t<tr><th scope=row>GSM1214836</th><td>ependymoma</td><td>1.676252</td><td>3.747256</td><td>3.456146</td><td>3.642242</td><td>1.194883</td><td>3.520656</td><td>1.797164</td><td>3.463318</td><td>3.227379</td><td>⋯</td><td>3.431167</td><td>2.897142</td><td>2.983751</td><td>1.608201</td><td>1.587031</td><td>2.585998</td><td>1.449467</td><td>1.815894</td><td>1.748981</td><td>1.783816</td></tr>\n",
       "\t<tr><th scope=row>GSM1214837</th><td>ependymoma</td><td>3.792194</td><td>1.636888</td><td>3.823623</td><td>3.786311</td><td>1.168471</td><td>3.498731</td><td>3.818550</td><td>2.747462</td><td>3.578139</td><td>⋯</td><td>1.943356</td><td>1.839781</td><td>2.128098</td><td>1.537581</td><td>3.151399</td><td>3.113747</td><td>1.424955</td><td>1.906251</td><td>3.647694</td><td>2.645952</td></tr>\n",
       "\t<tr><th scope=row>GSM1214838</th><td>ependymoma</td><td>3.809949</td><td>1.639904</td><td>3.561411</td><td>1.590063</td><td>2.933787</td><td>2.997341</td><td>1.648297</td><td>3.624553</td><td>3.551927</td><td>⋯</td><td>3.594693</td><td>2.148758</td><td>2.130709</td><td>3.167416</td><td>1.614435</td><td>1.762541</td><td>1.429500</td><td>1.849851</td><td>1.719865</td><td>1.758591</td></tr>\n",
       "\t<tr><th scope=row>GSM1214839</th><td>ependymoma</td><td>1.740624</td><td>3.700109</td><td>3.893310</td><td>3.761085</td><td>1.288353</td><td>3.745520</td><td>1.841266</td><td>3.714091</td><td>3.746951</td><td>⋯</td><td>3.263901</td><td>1.930619</td><td>2.309651</td><td>1.871377</td><td>1.540925</td><td>1.773522</td><td>1.461576</td><td>1.901027</td><td>1.799332</td><td>1.794916</td></tr>\n",
       "</tbody>\n",
       "</table>\n"
      ],
      "text/latex": [
       "A data.frame: 6 × 201\n",
       "\\begin{tabular}{r|lllllllllllllllllllll}\n",
       "  & Description & X224588\\_at & X201909\\_at & X229012\\_at & X210033\\_s\\_at & X236448\\_at & X240065\\_at & X206018\\_at & X225165\\_at & X220156\\_at & ⋯ & X206306\\_at & X203649\\_s\\_at & X206785\\_s\\_at & X1563933\\_a\\_at & X238603\\_at & X205751\\_at & X210271\\_at & X228347\\_at & X232720\\_at & X209138\\_x\\_at\\\\\n",
       "  & <chr> & <dbl> & <dbl> & <dbl> & <dbl> & <dbl> & <dbl> & <dbl> & <dbl> & <dbl> & ⋯ & <dbl> & <dbl> & <dbl> & <dbl> & <dbl> & <dbl> & <dbl> & <dbl> & <dbl> & <dbl>\\\\\n",
       "\\hline\n",
       "\tGSM1214834 & ependymoma & 1.678130 & 3.644194 & 3.820705 & 3.735552 & 1.172587 & 3.624207 & 1.794471 & 3.691314 & 3.589067 & ⋯ & 3.596530 & 1.873599 & 2.146811 & 3.110174 & 1.524128 & 2.563318 & 1.450476 & 1.880268 & 1.737017 & 1.776431\\\\\n",
       "\tGSM1214835 & ependymoma & 3.767506 & 1.667500 & 3.224272 & 3.566060 & 3.134809 & 3.381327 & 3.608933 & 3.828011 & 3.315655 & ⋯ & 1.716341 & 1.825732 & 2.149566 & 1.619617 & 1.601342 & 2.726899 & 2.637962 & 1.991922 & 1.788192 & 2.720051\\\\\n",
       "\tGSM1214836 & ependymoma & 1.676252 & 3.747256 & 3.456146 & 3.642242 & 1.194883 & 3.520656 & 1.797164 & 3.463318 & 3.227379 & ⋯ & 3.431167 & 2.897142 & 2.983751 & 1.608201 & 1.587031 & 2.585998 & 1.449467 & 1.815894 & 1.748981 & 1.783816\\\\\n",
       "\tGSM1214837 & ependymoma & 3.792194 & 1.636888 & 3.823623 & 3.786311 & 1.168471 & 3.498731 & 3.818550 & 2.747462 & 3.578139 & ⋯ & 1.943356 & 1.839781 & 2.128098 & 1.537581 & 3.151399 & 3.113747 & 1.424955 & 1.906251 & 3.647694 & 2.645952\\\\\n",
       "\tGSM1214838 & ependymoma & 3.809949 & 1.639904 & 3.561411 & 1.590063 & 2.933787 & 2.997341 & 1.648297 & 3.624553 & 3.551927 & ⋯ & 3.594693 & 2.148758 & 2.130709 & 3.167416 & 1.614435 & 1.762541 & 1.429500 & 1.849851 & 1.719865 & 1.758591\\\\\n",
       "\tGSM1214839 & ependymoma & 1.740624 & 3.700109 & 3.893310 & 3.761085 & 1.288353 & 3.745520 & 1.841266 & 3.714091 & 3.746951 & ⋯ & 3.263901 & 1.930619 & 2.309651 & 1.871377 & 1.540925 & 1.773522 & 1.461576 & 1.901027 & 1.799332 & 1.794916\\\\\n",
       "\\end{tabular}\n"
      ],
      "text/markdown": [
       "\n",
       "A data.frame: 6 × 201\n",
       "\n",
       "| <!--/--> | Description &lt;chr&gt; | X224588_at &lt;dbl&gt; | X201909_at &lt;dbl&gt; | X229012_at &lt;dbl&gt; | X210033_s_at &lt;dbl&gt; | X236448_at &lt;dbl&gt; | X240065_at &lt;dbl&gt; | X206018_at &lt;dbl&gt; | X225165_at &lt;dbl&gt; | X220156_at &lt;dbl&gt; | ⋯ ⋯ | X206306_at &lt;dbl&gt; | X203649_s_at &lt;dbl&gt; | X206785_s_at &lt;dbl&gt; | X1563933_a_at &lt;dbl&gt; | X238603_at &lt;dbl&gt; | X205751_at &lt;dbl&gt; | X210271_at &lt;dbl&gt; | X228347_at &lt;dbl&gt; | X232720_at &lt;dbl&gt; | X209138_x_at &lt;dbl&gt; |\n",
       "|---|---|---|---|---|---|---|---|---|---|---|---|---|---|---|---|---|---|---|---|---|---|\n",
       "| GSM1214834 | ependymoma | 1.678130 | 3.644194 | 3.820705 | 3.735552 | 1.172587 | 3.624207 | 1.794471 | 3.691314 | 3.589067 | ⋯ | 3.596530 | 1.873599 | 2.146811 | 3.110174 | 1.524128 | 2.563318 | 1.450476 | 1.880268 | 1.737017 | 1.776431 |\n",
       "| GSM1214835 | ependymoma | 3.767506 | 1.667500 | 3.224272 | 3.566060 | 3.134809 | 3.381327 | 3.608933 | 3.828011 | 3.315655 | ⋯ | 1.716341 | 1.825732 | 2.149566 | 1.619617 | 1.601342 | 2.726899 | 2.637962 | 1.991922 | 1.788192 | 2.720051 |\n",
       "| GSM1214836 | ependymoma | 1.676252 | 3.747256 | 3.456146 | 3.642242 | 1.194883 | 3.520656 | 1.797164 | 3.463318 | 3.227379 | ⋯ | 3.431167 | 2.897142 | 2.983751 | 1.608201 | 1.587031 | 2.585998 | 1.449467 | 1.815894 | 1.748981 | 1.783816 |\n",
       "| GSM1214837 | ependymoma | 3.792194 | 1.636888 | 3.823623 | 3.786311 | 1.168471 | 3.498731 | 3.818550 | 2.747462 | 3.578139 | ⋯ | 1.943356 | 1.839781 | 2.128098 | 1.537581 | 3.151399 | 3.113747 | 1.424955 | 1.906251 | 3.647694 | 2.645952 |\n",
       "| GSM1214838 | ependymoma | 3.809949 | 1.639904 | 3.561411 | 1.590063 | 2.933787 | 2.997341 | 1.648297 | 3.624553 | 3.551927 | ⋯ | 3.594693 | 2.148758 | 2.130709 | 3.167416 | 1.614435 | 1.762541 | 1.429500 | 1.849851 | 1.719865 | 1.758591 |\n",
       "| GSM1214839 | ependymoma | 1.740624 | 3.700109 | 3.893310 | 3.761085 | 1.288353 | 3.745520 | 1.841266 | 3.714091 | 3.746951 | ⋯ | 3.263901 | 1.930619 | 2.309651 | 1.871377 | 1.540925 | 1.773522 | 1.461576 | 1.901027 | 1.799332 | 1.794916 |\n",
       "\n"
      ],
      "text/plain": [
       "           Description X224588_at X201909_at X229012_at X210033_s_at X236448_at\n",
       "GSM1214834 ependymoma  1.678130   3.644194   3.820705   3.735552     1.172587  \n",
       "GSM1214835 ependymoma  3.767506   1.667500   3.224272   3.566060     3.134809  \n",
       "GSM1214836 ependymoma  1.676252   3.747256   3.456146   3.642242     1.194883  \n",
       "GSM1214837 ependymoma  3.792194   1.636888   3.823623   3.786311     1.168471  \n",
       "GSM1214838 ependymoma  3.809949   1.639904   3.561411   1.590063     2.933787  \n",
       "GSM1214839 ependymoma  1.740624   3.700109   3.893310   3.761085     1.288353  \n",
       "           X240065_at X206018_at X225165_at X220156_at ⋯ X206306_at\n",
       "GSM1214834 3.624207   1.794471   3.691314   3.589067   ⋯ 3.596530  \n",
       "GSM1214835 3.381327   3.608933   3.828011   3.315655   ⋯ 1.716341  \n",
       "GSM1214836 3.520656   1.797164   3.463318   3.227379   ⋯ 3.431167  \n",
       "GSM1214837 3.498731   3.818550   2.747462   3.578139   ⋯ 1.943356  \n",
       "GSM1214838 2.997341   1.648297   3.624553   3.551927   ⋯ 3.594693  \n",
       "GSM1214839 3.745520   1.841266   3.714091   3.746951   ⋯ 3.263901  \n",
       "           X203649_s_at X206785_s_at X1563933_a_at X238603_at X205751_at\n",
       "GSM1214834 1.873599     2.146811     3.110174      1.524128   2.563318  \n",
       "GSM1214835 1.825732     2.149566     1.619617      1.601342   2.726899  \n",
       "GSM1214836 2.897142     2.983751     1.608201      1.587031   2.585998  \n",
       "GSM1214837 1.839781     2.128098     1.537581      3.151399   3.113747  \n",
       "GSM1214838 2.148758     2.130709     3.167416      1.614435   1.762541  \n",
       "GSM1214839 1.930619     2.309651     1.871377      1.540925   1.773522  \n",
       "           X210271_at X228347_at X232720_at X209138_x_at\n",
       "GSM1214834 1.450476   1.880268   1.737017   1.776431    \n",
       "GSM1214835 2.637962   1.991922   1.788192   2.720051    \n",
       "GSM1214836 1.449467   1.815894   1.748981   1.783816    \n",
       "GSM1214837 1.424955   1.906251   3.647694   2.645952    \n",
       "GSM1214838 1.429500   1.849851   1.719865   1.758591    \n",
       "GSM1214839 1.461576   1.901027   1.799332   1.794916    "
      ]
     },
     "metadata": {},
     "output_type": "display_data"
    }
   ],
   "source": [
    "library(GEOquery)\n",
    "\n",
    "gse <- getGEO(\"GSE50161\", GSEMatrix = TRUE)[[1]]\n",
    "brain_data <- exprs(gse)  # Gene expression matrix (genes x samples)\n",
    "\n",
    "# Check available column names\n",
    "#colnames(pData(gse))\n",
    "\n",
    "# Tissues where the tumor was extracted\n",
    "brain_labels <- pData(gse)$\"tissue:ch1\"\n",
    "dim(brain_data)\n",
    "table(brain_labels)\n",
    "\n",
    "# Tissues of interest (most of the samples are located here)\n",
    "selected_labels <- c(\"ependymoma\", \"glioblastoma\", \"medulloblastoma\", \"pilocytic astrocytoma\")\n",
    "\n",
    "# Filter the samples based on selected labels\n",
    "selected_indices <- brain_labels %in% selected_labels\n",
    "brain_data <- brain_data[, selected_indices]\n",
    "brain_labels <- brain_labels[selected_indices]\n",
    "\n",
    "# Normalize the data using log2 transformation (adding 1 to avoid log(0))\n",
    "brain_data <- log2(brain_data + 1)\n",
    "\n",
    "# Compute variance for each gene and select top 200 genes\n",
    "gene_variances <- apply(brain_data, 1, var)  # Compute variance per gene\n",
    "top_genes <- names(sort(gene_variances, decreasing = TRUE))[1:200]  # Select top 200 genes\n",
    "brain_data <- brain_data[top_genes, ]  # Keep only top 200 genes\n",
    "\n",
    "# Transpose the data so individuals (samples) are rows and genes are columns\n",
    "brain_data <- t(brain_data)\n",
    "\n",
    "# Convert to data frame and add \"Description\" column\n",
    "brain_data <- data.frame(Description = brain_labels, brain_data)\n",
    "\n",
    "# Check the final structure\n",
    "dim(brain_data)  # Should be (number of selected samples) x (201, including Description)\n",
    "head(brain_data)  # View first few rows"
   ]
  },
  {
   "cell_type": "code",
   "execution_count": 27,
   "id": "7e61869a-0796-445c-8a17-755677ef7560",
   "metadata": {},
   "outputs": [
    {
     "data": {
      "text/plain": [
       "brain_labels\n",
       "           ependymoma          glioblastoma       medulloblastoma \n",
       "                   46                    34                    22 \n",
       "pilocytic astrocytoma \n",
       "                   15 "
      ]
     },
     "metadata": {},
     "output_type": "display_data"
    }
   ],
   "source": [
    "table(brain_labels)"
   ]
  },
  {
   "cell_type": "code",
   "execution_count": 28,
   "id": "b63aa080-4025-4131-8763-a61cd1fa3e08",
   "metadata": {},
   "outputs": [],
   "source": [
    "BrainTumor200 = brain_data\n",
    "#save(BrainTumor200, file = \"BrainTumor200.RData\")"
   ]
  }
 ],
 "metadata": {
  "kernelspec": {
   "display_name": "R",
   "language": "R",
   "name": "ir"
  },
  "language_info": {
   "codemirror_mode": "r",
   "file_extension": ".r",
   "mimetype": "text/x-r-source",
   "name": "R",
   "pygments_lexer": "r",
   "version": "4.4.1"
  }
 },
 "nbformat": 4,
 "nbformat_minor": 5
}
